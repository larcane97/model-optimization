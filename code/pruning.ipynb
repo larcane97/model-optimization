{
 "cells": [
  {
   "cell_type": "code",
   "execution_count": null,
   "metadata": {},
   "outputs": [],
   "source": [
    "from src.dataloader import create_dataloader\n",
    "from nni.algorithms.compression.pytorch.pruning import SlimPruner\n",
    "from src.model import Model\n",
    "import torch\n",
    "import torch.optim as optim\n",
    "import torch.nn as nn\n",
    "import torch.nn.utils.prune as prune\n"
   ]
  },
  {
   "cell_type": "code",
   "execution_count": null,
   "metadata": {},
   "outputs": [],
   "source": [
    "\n",
    "device = torch.device('cuda' if torch.cuda.is_available() else 'cpu')\n",
    "\n",
    "model_config = '/opt/ml/code/exp/mbv3-small_kd_NST-swinL/model.yml'\n",
    "model_instance = Model(model_config, verbose=True)\n",
    "\n",
    "model = model_instance.model.to(device)\n",
    "\n",
    "prune.ln_structured(model, name=\"weight\", amount=0.5, n=1, dim=0)\n",
    "\n",
    "\n",
    "\n"
   ]
  }
 ],
 "metadata": {
  "interpreter": {
   "hash": "e31c68abf1d5dd3f9e2269f23eadf1b199587e56c0618a30760176a65ebfcab4"
  },
  "kernelspec": {
   "display_name": "lightweight",
   "language": "python",
   "name": "lightweight"
  },
  "orig_nbformat": 4
 },
 "nbformat": 4,
 "nbformat_minor": 2
}
